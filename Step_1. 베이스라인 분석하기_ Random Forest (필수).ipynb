{
 "cells": [
  {
   "cell_type": "markdown",
   "id": "a637bb63",
   "metadata": {},
   "source": [
    "# 🌲 필수 과제 - Random Forest 🌲"
   ]
  },
  {
   "cell_type": "markdown",
   "id": "d555c889",
   "metadata": {},
   "source": [
    "안녕하세요 여러분!  \n",
    "스터디에 대해 간단히 안내드립니다."
   ]
  },
  {
   "cell_type": "markdown",
   "id": "11fecf07",
   "metadata": {},
   "source": [
    "🌲필수 과제🌲는 '미션'과 '선택 과제'를 포함합니다.  \n",
    "'선택 과제'는 팀원들과 논의해보시고 추가로 공부하시면 좋습니다.  \n",
    "마찬가지로 🔥심화 과제🔥는 선택적으로 진행하시고 결과 제출해주시면 됩니다!  "
   ]
  },
  {
   "cell_type": "markdown",
   "id": "b006a344",
   "metadata": {},
   "source": [
    "스터디를 통해 답변해야 하는 질문들 앞에는 🎯 표시가 붙습니다.  \n",
    "해당 질문들에 대한 답변을 팀원들과 잘 정리하여 '토크 게시판'에 업로드해주세요!"
   ]
  },
  {
   "cell_type": "markdown",
   "id": "2e511b0c",
   "metadata": {},
   "source": [
    "---"
   ]
  },
  {
   "cell_type": "markdown",
   "id": "d84dd7b8",
   "metadata": {},
   "source": [
    "# 대회 페이지는 어떻게 이용하는 걸까? 🧐"
   ]
  },
  {
   "cell_type": "markdown",
   "id": "ef21b9b4",
   "metadata": {},
   "source": [
    "본격적인 스터디를 시작하기 전에 저희 데이콘의 대회 페이지를 이용하는 방법을 알려드려고 합니다.  \n",
    "프로젝트도 해보고 싶고, 대회에도 참여해보고 싶고, 데이터 분석도 해보고 싶지만 막상 어디에 접속해서 뭘 해야할지 몰라 힘들었던 경험이 다들 있으실 것 같아요.  \n",
    "다음 링크에 접속해서 짧은 영상을 시청하시고 결과물을 제출해보겠습니다.  \n",
    "https://www.youtube.com/watch?v=UngFd6ek9KQ"
   ]
  },
  {
   "cell_type": "markdown",
   "id": "6ba8d455",
   "metadata": {},
   "source": [
    "### 미션 0. 팀을 구성해보자"
   ]
  },
  {
   "cell_type": "markdown",
   "id": "8ed98930",
   "metadata": {},
   "source": [
    "대부분의 대회는 혼자서 진행하는 것보다 다른 사람들과 팀을 이루어 진행하는 경우가 많습니다.  \n",
    "여러 아이디어와 접근 방식이 문제를 해결하는데 도움이 되기 때문이죠.    \n",
    "\n",
    "우선 나의 스터디원들과 함께 팀을 이루고 팀명도 정해봅시다."
   ]
  },
  {
   "cell_type": "markdown",
   "id": "312590a6",
   "metadata": {},
   "source": [
    "🎯 스터디원들과 정한 팀 이름을 알려주세요!"
   ]
  },
  {
   "cell_type": "markdown",
   "id": "f82c994a",
   "metadata": {},
   "source": [
    "### 미션 1. 베이스라인 결과를 제출해보자"
   ]
  },
  {
   "cell_type": "markdown",
   "id": "2f252c52",
   "metadata": {},
   "source": [
    "이 대회의 경우 두 개의 베이스라인이 제공되었습니다.  \n",
    "1. Random Forest\n",
    "2. LSTM  \n",
    "\n",
    "이번에는 LSTM 베이스라인을 각자 다운로드 받고,   \n",
    "이를 실행시켜 얻은 csv 파일을 대회 페이지에 제출해보겠습니다."
   ]
  },
  {
   "cell_type": "markdown",
   "id": "3b769fff",
   "metadata": {},
   "source": [
    "🎯  베이스라인을 제출해서 얻은 점수를 공유해주세요!"
   ]
  },
  {
   "cell_type": "markdown",
   "id": "adb90474",
   "metadata": {},
   "source": [
    "--- "
   ]
  },
  {
   "cell_type": "markdown",
   "id": "6539768a",
   "metadata": {},
   "source": [
    "# 베이스라인 코드를 살펴보자! 👩‍🍳"
   ]
  },
  {
   "cell_type": "markdown",
   "id": "1112ca07",
   "metadata": {},
   "source": [
    "일반적으로 데이콘의 베이스라인은 모든 참가자들이 제출 경험을 가질 수 있도록 작성됩니다.  \n",
    "그런데 단순히 코드를 실행시키기만 해서 결과를 얻게 된다면 각 코드가 의미하는 바가 무엇인지 파악하기도 어렵고,  \n",
    "나만의 아이디어는 앞으로도 생기지 않을지도 모릅니다! 😱  \n",
    "\n",
    "아래 코드를 한 줄씩 상세히 살펴보면서 팀원들과 논의한 결과를 저희에게도 공유해주세요."
   ]
  },
  {
   "cell_type": "markdown",
   "id": "143f8a88",
   "metadata": {},
   "source": [
    "---"
   ]
  },
  {
   "cell_type": "markdown",
   "id": "6b41c10a",
   "metadata": {},
   "source": [
    "라이브러리를 한꺼번에 불러오는 것은 코드 가독성을 높이기 위함입니다.  \n",
    "지금 당장은 각 라이브러리나 패키지가 무슨 일을 하는지 몰라도 괜찮습니다 ☺️  \n",
    "그렇다고 하더라도! 하나 정도는 확실히 파악하고 가봅시다.  "
   ]
  },
  {
   "cell_type": "markdown",
   "id": "de78d305",
   "metadata": {},
   "source": [
    "### 미션 2. Pandas가 뭐야?"
   ]
  },
  {
   "cell_type": "markdown",
   "id": "e0a501d3",
   "metadata": {},
   "source": [
    "데이터 분석, 혹은 빅데이터 관련 많은 대회에서는 csv 파일과 같은 형식의 데이터를 제공합니다.  \n",
    "엑셀로 이런 확장자의 파일을 생성할 수 있다고 하는데 이게 대체 뭘까요?  \n"
   ]
  },
  {
   "cell_type": "markdown",
   "id": "e9220cf3",
   "metadata": {},
   "source": [
    "🎯 `.csv` 확장자가 무엇의 약자인가요? 그리고 이걸 사용하는 이유는 뭔가요?  \n",
    " - CommaSecurityValue \n",
    "      \n",
    "🎯 `pandas` 는 무엇일까요? 이것이 `.csv` 파일과 어떤 관련이 있을까요? 그리고 꼭 `.csv` 파일만 사용해야 할까요?\n",
    " - 데이터 분석을 위한 라이브러리(주로 대용량 데이터), csv는 주로 행과 열로 구조화 되어있는데 판다스는 이 데이터 프레임을 처리하는 함수를 지원한다.\n",
    " "
   ]
  },
  {
   "cell_type": "markdown",
   "id": "bc79fbba",
   "metadata": {},
   "source": [
    "## Import"
   ]
  },
  {
   "cell_type": "code",
   "execution_count": 1,
   "id": "rBvX-8P2QwYy",
   "metadata": {
    "ExecuteTime": {
     "end_time": "2022-07-11T08:41:57.003103Z",
     "start_time": "2022-07-11T08:41:53.892893Z"
    },
    "executionInfo": {
     "elapsed": 2132,
     "status": "ok",
     "timestamp": 1683473184964,
     "user": {
      "displayName": "이승윤",
      "userId": "17995305622900705411"
     },
     "user_tz": -540
    },
    "id": "rBvX-8P2QwYy"
   },
   "outputs": [],
   "source": [
    "import random\n",
    "import pandas as pd\n",
    "import numpy as np\n",
    "import os\n",
    "import datetime\n",
    "\n",
    "\n",
    "# 사이킷런에서 랜덤포레스트 모델 불러오기\n",
    "from sklearn.ensemble import RandomForestRegressor\n",
    "from sklearn.model_selection import GridSearchCV\n",
    "from sklearn.model_selection import train_test_split  # train_test_split 함수 import 추가\n",
    "\n",
    "# 경고 메세지 무시하기\n",
    "import warnings\n",
    "warnings.filterwarnings(action='ignore') "
   ]
  },
  {
   "cell_type": "markdown",
   "id": "4fefafce",
   "metadata": {},
   "source": [
    "### (선택 과제 1) 씨앗은 심으면 되나요? 🌱"
   ]
  },
  {
   "cell_type": "markdown",
   "id": "ee12aaad",
   "metadata": {},
   "source": [
    "실험을 진행하다보면 동일한 결과를 재현해야 할 필요가 있습니다.  \n",
    "정상적인 로직에 의한 결과물임을 입증해야 할 수도 있고,  \n",
    "때로는 자신이 적용한 방법론들을 점검해야 할 수도 있기 때문이죠."
   ]
  },
  {
   "cell_type": "markdown",
   "id": "de0e66e3",
   "metadata": {},
   "source": [
    "이때 우리는 시드를 고정함으로써 동일한 결과물을 재현할 수 있습니다.  \n",
    "🎯 시드가 무엇인지, 그리고 어떤 원리로 동작하는지 알려주세요."
   ]
  },
  {
   "cell_type": "markdown",
   "id": "QT7_IBn9QwYz",
   "metadata": {
    "id": "QT7_IBn9QwYz"
   },
   "source": [
    "## Fixed Random-Seed"
   ]
  },
  {
   "cell_type": "code",
   "execution_count": 2,
   "id": "KgyHxME7QwYz",
   "metadata": {
    "ExecuteTime": {
     "end_time": "2022-07-11T08:41:57.009050Z",
     "start_time": "2022-07-11T08:41:57.006949Z"
    },
    "executionInfo": {
     "elapsed": 2,
     "status": "ok",
     "timestamp": 1683473189486,
     "user": {
      "displayName": "이승윤",
      "userId": "17995305622900705411"
     },
     "user_tz": -540
    },
    "id": "KgyHxME7QwYz"
   },
   "outputs": [],
   "source": [
    "# 시드 고정\n",
    "def seed_everything(seed): # 랜덤성 제어 역할\n",
    "    random.seed(seed)   # random모듈 사용해 랜덤시드를 seed로 설정\n",
    "    os.environ['PYTHONHASHSEED'] = str(seed) # 환경변수 설정(해시 기반 작업 랜덤성 제어)\n",
    "    np.random.seed(seed)  # numpy랜덤 시드 설정\n",
    "\n",
    "seed_everything(80) # Seed 고정"
   ]
  },
  {
   "cell_type": "code",
   "execution_count": 3,
   "id": "a39ebf84-5bad-461c-b22f-9c34240728be",
   "metadata": {},
   "outputs": [
    {
     "data": {
      "text/plain": [
       "8931819845409321064"
      ]
     },
     "execution_count": 3,
     "metadata": {},
     "output_type": "execute_result"
    }
   ],
   "source": [
    "test1 = {'a':1, 'b':2, 'c':3}\n",
    "hash('a')"
   ]
  },
  {
   "cell_type": "code",
   "execution_count": 4,
   "id": "9e7a37ba-2209-408d-825a-4bfd75dba157",
   "metadata": {},
   "outputs": [
    {
     "data": {
      "text/plain": [
       "8931819845409321064"
      ]
     },
     "execution_count": 4,
     "metadata": {},
     "output_type": "execute_result"
    }
   ],
   "source": [
    "hash('a')"
   ]
  },
  {
   "cell_type": "markdown",
   "id": "a0b96368",
   "metadata": {},
   "source": [
    "## Load Data"
   ]
  },
  {
   "cell_type": "code",
   "execution_count": 5,
   "id": "3979c375",
   "metadata": {},
   "outputs": [],
   "source": [
    "train_df = pd.read_csv('open/train.csv')\n",
    "test_df = pd.read_csv('open/test.csv')"
   ]
  },
  {
   "cell_type": "markdown",
   "id": "97be2b96",
   "metadata": {},
   "source": [
    "### 미션 3. 데이터 전처리\n"
   ]
  },
  {
   "cell_type": "markdown",
   "id": "f44f5867",
   "metadata": {},
   "source": [
    "컴퓨터가 데이터에서 어떤 특징들을 파악하고 학습을 하기 위해서는 적절한 형태로 가공하는 것이 중요합니다.  \n",
    "맛있는 요리를 만들기 위해서는 재료를 손질해야 하죠! 이것과 똑같습니다 🥕  "
   ]
  },
  {
   "cell_type": "markdown",
   "id": "e5c4ae8d",
   "metadata": {},
   "source": [
    "베이스라인에서는 아주 간단한 형태의 전처리만을 다루고 있지만 굉장히 다양한 방법을 적용할 수 있답니다.  \n",
    "이번에는 '날짜' 데이터의 특징을 컴퓨터가 학습할 수 있도록 하는 방법을 배우는 것에 집중해 봅시다."
   ]
  },
  {
   "cell_type": "markdown",
   "id": "462747ff",
   "metadata": {},
   "source": [
    "🎯 날짜 데이터를 어떻게 전처리했는지 설명해 보세요. 이것이 유일한 방법일까요?"
   ]
  },
  {
   "cell_type": "markdown",
   "id": "d9784292",
   "metadata": {},
   "source": [
    "### (선택 과제 2) 나의 전처리 방식과 비교하기"
   ]
  },
  {
   "cell_type": "markdown",
   "id": "892dbaf9",
   "metadata": {},
   "source": [
    "이 대회에 참여하신 분들이라면 베이스라인에 나타난 전처리 외에도 아주 다양한 방식들을 시도하셨을 것 같아요!  \n",
    "수상자는 어떻게 전처리했는지 살펴보는 것도 중요하지만, 자신의 아이디어에 대해 점검해보는 것도 중요합니다 💡  \n",
    "\n",
    "🎯 혹시 시도해본 방법이 있다면 유효했는지 혹은 그렇지 않았는지 팀원들과 공유한 내용을 정리해서 알려주세요."
   ]
  },
  {
   "cell_type": "markdown",
   "id": "r-3_zmrwQwYz",
   "metadata": {
    "id": "r-3_zmrwQwYz"
   },
   "source": [
    "## Train Data Pre-Processing"
   ]
  },
  {
   "cell_type": "code",
   "execution_count": 6,
   "id": "2f33c629",
   "metadata": {},
   "outputs": [],
   "source": [
    "#결측값을 0으로 채웁니다\n",
    "train_df = train_df.fillna(0)"
   ]
  },
  {
   "cell_type": "code",
   "execution_count": 7,
   "id": "5e6cae2e",
   "metadata": {},
   "outputs": [],
   "source": [
    "#시계열 특성을 학습에 반영하기 위해 일시를 월, 일, 시간으로 나눕니다\n",
    "\n",
    "#날짜 데이터('일시')를 월, 일, 시간으로 나눠 저장\n",
    "# 일시에 해당하는 부분을 정수형으로 변환해 저장(날짜 세부적으로 나누어 시계열 특성 반영)\n",
    "# train_df['month'] = train_df['일시'].apply(lambda x : int(x[4:6]))\n",
    "# train_df['day'] = train_df['일시'].apply(lambda x : int(x[6:8]))\n",
    "# train_df['time'] = train_df['일시'].apply(lambda x : int(x[9:11]))"
   ]
  },
  {
   "cell_type": "code",
   "execution_count": 8,
   "id": "f7e4dc8f-caca-44b4-8750-7ff7da63e7bd",
   "metadata": {},
   "outputs": [],
   "source": [
    "# datetime 라이브러리를 사용하여 날짜 및 시간 정보 추출\n",
    "train_df['일시'] = pd.to_datetime(train_df['일시'])\n",
    "train_df['month'] = train_df['일시'].dt.month\n",
    "train_df['day'] = train_df['일시'].dt.day\n",
    "train_df['time'] = train_df['일시'].dt.hour"
   ]
  },
  {
   "cell_type": "code",
   "execution_count": 9,
   "id": "2be1f664",
   "metadata": {},
   "outputs": [],
   "source": [
    "# 날짜데이터 포함 원래 특성에서 몊가지 컬럼 제외해 선택하여 구성\n",
    "train_x = train_df.drop(columns=['num_date_time', '일시', '일조(hr)', '일사(MJ/m2)', '전력소비량(kWh)'])\n",
    "#'전력소비량'을 선택해 예측하고자 하는 컬럼을 선택\n",
    "train_y = train_df['전력소비량(kWh)']"
   ]
  },
  {
   "cell_type": "markdown",
   "id": "16e2aad2",
   "metadata": {},
   "source": [
    "### 미션 4. Fit!"
   ]
  },
  {
   "cell_type": "markdown",
   "id": "737aa6de",
   "metadata": {},
   "source": [
    "모델이 학습할 데이터가 준비되었다면 이를 모델에게 주면 되겠죠.  \n",
    "그런데 어떻게 주면 될까요?  \n",
    "컴퓨터는 사람이 아니라서 특정한 형태와 순서를 갖추지 않으면 말을 듣지 않습니다! 🤖"
   ]
  },
  {
   "cell_type": "markdown",
   "id": "a8ad4fc8",
   "metadata": {},
   "source": [
    "이럴 때 참고하기 좋은 것이 바로 'document', 즉 '공식 문서'입니다.  \n",
    "개발자들은 자신들이 만든 도구를 사용하는 방법을 문서로 잘 정리해두고 사람들이 볼 수 있도록 공개해두거든요!  \n",
    "\n",
    "아래 링크는 사이킷런에서 `RandomForestRegressor`에 대해 정리한 문서입니다.  \n",
    "https://scikit-learn.org/stable/modules/generated/sklearn.ensemble.RandomForestRegressor.html"
   ]
  },
  {
   "cell_type": "markdown",
   "id": "2af51c56",
   "metadata": {},
   "source": [
    "위 링크를 참고해보시고,  \n",
    "🎯 `RandomForestRegressor`는 어떤 `parameter`(인자)를 가질 수 있는지,  \n",
    "각 `parameter`의 역할은 무엇인지에 대해 공부해 봅시다.`\n",
    "\n",
    "  - RandomForestRegressor()\n",
    "   - `n_estimators`: 랜덤 포레스트에서 사용할 결정 트리의 개수를 지정\n",
    "     - 기본 100, 결정 트리 개수가 많아질수록 성능 향상되지만 계산 비용증가\n",
    "   - `criterion`:측정하는 기준(mse, mae)\n",
    "     - 기본 mse, 노드에서 데이터 분할의 품질을 측정\n",
    "   - `max_depth`: 트리의 최대 깊이\n",
    "     - none: 트리 깊이를 제한해 과적합 방지, 작게 설정할수록 복잡도 떨어짐\n",
    "   - `min_samples_split`: 노드 분할 전 최소 샘플 수\n",
    "     - 기본 2, 작게 설정할수록 트리 깊어지고 노드 분할 전 최소 샘플 수 정의\n",
    "   - `min_samples_leaf`: 리프 노드가 되기 위한 최소 샘플 수(작을 수록 깊이 커짐)\n",
    "     - 기본 1, 작게 설정할 수록 트리 깊어지고 리프 노드가 되기 위해 필요한 최소 샘플 수\n",
    "   - `max_features` : 각 노드에서 분할에 사용할 특성의 최대 수 \n",
    "     - 기본 auto, 분할에 참여할 특성 수를 제한해 모델의 다양성을 높임\n",
    "   - `random_state`ㅣ 랜덤시드 지정해 결과 재현\n",
    "     - 기본 none, 시드고정해 랜덤 요소가 동일하게 유지되 실험의 재현성 보장\n",
    "   - `bootstrap`: 샘플링을 중복하게 사용할지 여부 지정 \n",
    "     - true, 모델의 다양성을 높여줌\n",
    "   - `n_jobs`: 병렬처리에 사용할 CPU코어 수(-1일때 모든 가능한 코어사용)\n",
    "     - none, 학습속도 계산시간 단축\n",
    "   - `verbose`: 학습 과정 중 출력을 제어\n",
    "     - 기본 0, 값이 클수록 학습진행 상황 정보가 더 많이 표시\n",
    "   - `oob_score`: out-of-bag데이터 사용해 검증 점수 계산 여부 지정\n",
    "     - 기본 false, Out-of-Bag: 부트스트래핑 과정 중 선택되지 않은 데이터 샘플들"
   ]
  },
  {
   "cell_type": "markdown",
   "id": "ZC7hzMtOQwY0",
   "metadata": {
    "id": "ZC7hzMtOQwY0",
    "tags": []
   },
   "source": [
    "## Regression Model Fit"
   ]
  },
  {
   "cell_type": "code",
   "execution_count": 20,
   "id": "5a995069-71df-4178-ac56-6f71a829b691",
   "metadata": {},
   "outputs": [],
   "source": [
    "# 데이터 샘플링 (샘플링 비율을 0.2로 설정), 학습시간 줄이기 위해 사용\n",
    "train_x_sampled, _, train_y_sampled, _ = train_test_split(train_x, train_y, test_size=0.2, random_state=80)"
   ]
  },
  {
   "cell_type": "code",
   "execution_count": 21,
   "id": "1aX-3v6JrpX6",
   "metadata": {
    "colab": {
     "base_uri": "https://localhost:8080/",
     "height": 75
    },
    "executionInfo": {
     "elapsed": 22,
     "status": "ok",
     "timestamp": 1683473315989,
     "user": {
      "displayName": "이승윤",
      "userId": "17995305622900705411"
     },
     "user_tz": -540
    },
    "id": "1aX-3v6JrpX6",
    "outputId": "99876b02-be42-4e2a-8b13-844328b558fe"
   },
   "outputs": [
    {
     "data": {
      "text/html": [
       "<style>#sk-container-id-1 {color: black;background-color: white;}#sk-container-id-1 pre{padding: 0;}#sk-container-id-1 div.sk-toggleable {background-color: white;}#sk-container-id-1 label.sk-toggleable__label {cursor: pointer;display: block;width: 100%;margin-bottom: 0;padding: 0.3em;box-sizing: border-box;text-align: center;}#sk-container-id-1 label.sk-toggleable__label-arrow:before {content: \"▸\";float: left;margin-right: 0.25em;color: #696969;}#sk-container-id-1 label.sk-toggleable__label-arrow:hover:before {color: black;}#sk-container-id-1 div.sk-estimator:hover label.sk-toggleable__label-arrow:before {color: black;}#sk-container-id-1 div.sk-toggleable__content {max-height: 0;max-width: 0;overflow: hidden;text-align: left;background-color: #f0f8ff;}#sk-container-id-1 div.sk-toggleable__content pre {margin: 0.2em;color: black;border-radius: 0.25em;background-color: #f0f8ff;}#sk-container-id-1 input.sk-toggleable__control:checked~div.sk-toggleable__content {max-height: 200px;max-width: 100%;overflow: auto;}#sk-container-id-1 input.sk-toggleable__control:checked~label.sk-toggleable__label-arrow:before {content: \"▾\";}#sk-container-id-1 div.sk-estimator input.sk-toggleable__control:checked~label.sk-toggleable__label {background-color: #d4ebff;}#sk-container-id-1 div.sk-label input.sk-toggleable__control:checked~label.sk-toggleable__label {background-color: #d4ebff;}#sk-container-id-1 input.sk-hidden--visually {border: 0;clip: rect(1px 1px 1px 1px);clip: rect(1px, 1px, 1px, 1px);height: 1px;margin: -1px;overflow: hidden;padding: 0;position: absolute;width: 1px;}#sk-container-id-1 div.sk-estimator {font-family: monospace;background-color: #f0f8ff;border: 1px dotted black;border-radius: 0.25em;box-sizing: border-box;margin-bottom: 0.5em;}#sk-container-id-1 div.sk-estimator:hover {background-color: #d4ebff;}#sk-container-id-1 div.sk-parallel-item::after {content: \"\";width: 100%;border-bottom: 1px solid gray;flex-grow: 1;}#sk-container-id-1 div.sk-label:hover label.sk-toggleable__label {background-color: #d4ebff;}#sk-container-id-1 div.sk-serial::before {content: \"\";position: absolute;border-left: 1px solid gray;box-sizing: border-box;top: 0;bottom: 0;left: 50%;z-index: 0;}#sk-container-id-1 div.sk-serial {display: flex;flex-direction: column;align-items: center;background-color: white;padding-right: 0.2em;padding-left: 0.2em;position: relative;}#sk-container-id-1 div.sk-item {position: relative;z-index: 1;}#sk-container-id-1 div.sk-parallel {display: flex;align-items: stretch;justify-content: center;background-color: white;position: relative;}#sk-container-id-1 div.sk-item::before, #sk-container-id-1 div.sk-parallel-item::before {content: \"\";position: absolute;border-left: 1px solid gray;box-sizing: border-box;top: 0;bottom: 0;left: 50%;z-index: -1;}#sk-container-id-1 div.sk-parallel-item {display: flex;flex-direction: column;z-index: 1;position: relative;background-color: white;}#sk-container-id-1 div.sk-parallel-item:first-child::after {align-self: flex-end;width: 50%;}#sk-container-id-1 div.sk-parallel-item:last-child::after {align-self: flex-start;width: 50%;}#sk-container-id-1 div.sk-parallel-item:only-child::after {width: 0;}#sk-container-id-1 div.sk-dashed-wrapped {border: 1px dashed gray;margin: 0 0.4em 0.5em 0.4em;box-sizing: border-box;padding-bottom: 0.4em;background-color: white;}#sk-container-id-1 div.sk-label label {font-family: monospace;font-weight: bold;display: inline-block;line-height: 1.2em;}#sk-container-id-1 div.sk-label-container {text-align: center;}#sk-container-id-1 div.sk-container {/* jupyter's `normalize.less` sets `[hidden] { display: none; }` but bootstrap.min.css set `[hidden] { display: none !important; }` so we also need the `!important` here to be able to override the default hidden behavior on the sphinx rendered scikit-learn.org. See: https://github.com/scikit-learn/scikit-learn/issues/21755 */display: inline-block !important;position: relative;}#sk-container-id-1 div.sk-text-repr-fallback {display: none;}</style><div id=\"sk-container-id-1\" class=\"sk-top-container\"><div class=\"sk-text-repr-fallback\"><pre>RandomForestRegressor()</pre><b>In a Jupyter environment, please rerun this cell to show the HTML representation or trust the notebook. <br />On GitHub, the HTML representation is unable to render, please try loading this page with nbviewer.org.</b></div><div class=\"sk-container\" hidden><div class=\"sk-item\"><div class=\"sk-estimator sk-toggleable\"><input class=\"sk-toggleable__control sk-hidden--visually\" id=\"sk-estimator-id-1\" type=\"checkbox\" checked><label for=\"sk-estimator-id-1\" class=\"sk-toggleable__label sk-toggleable__label-arrow\">RandomForestRegressor</label><div class=\"sk-toggleable__content\"><pre>RandomForestRegressor()</pre></div></div></div></div></div>"
      ],
      "text/plain": [
       "RandomForestRegressor()"
      ]
     },
     "execution_count": 21,
     "metadata": {},
     "output_type": "execute_result"
    }
   ],
   "source": [
    "# 모델 선언하고 주어진 데이터로 학습하기\n",
    "model = RandomForestRegressor()\n",
    "model.fit(train_x, train_y)"
   ]
  },
  {
   "cell_type": "code",
   "execution_count": 22,
   "id": "f70a2f79-abf7-42e7-be62-7f425e21bb28",
   "metadata": {},
   "outputs": [],
   "source": [
    "# 그리드 서치를 위한 파라미터 그리드 정의\n",
    "param_grid = {\n",
    "    'n_estimators': [100, 200],  # 트리의 개수\n",
    "    'max_features': [0.5, 0.7],  # 분할할 때 고려할 최대 특성 수\n",
    "    'max_depth': [10, 20],  # 트리의 최대 깊이\n",
    "    'min_samples_split': [2, 5],  # 노드를 분할하기 위한 최소 샘플 수\n",
    "    'min_samples_leaf': [1, 2],  # 리프 노드가 되기 위한 최소 샘플 수\n",
    "    'bootstrap': [True]  # 부트스트랩 샘플 사용 여부\n",
    "}\n"
   ]
  },
  {
   "cell_type": "code",
   "execution_count": 23,
   "id": "96adf4d7-8e37-48e3-a8fb-604167ce2c91",
   "metadata": {},
   "outputs": [
    {
     "name": "stdout",
     "output_type": "stream",
     "text": [
      "Fitting 5 folds for each of 32 candidates, totalling 160 fits\n",
      "[CV] END bootstrap=True, max_depth=10, max_features=0.5, min_samples_leaf=1, min_samples_split=2, n_estimators=100; total time=  26.6s\n",
      "[CV] END bootstrap=True, max_depth=10, max_features=0.5, min_samples_leaf=1, min_samples_split=2, n_estimators=200; total time=  52.4s\n",
      "[CV] END bootstrap=True, max_depth=10, max_features=0.5, min_samples_leaf=2, min_samples_split=2, n_estimators=100; total time=  29.9s\n",
      "[CV] END bootstrap=True, max_depth=10, max_features=0.5, min_samples_leaf=2, min_samples_split=2, n_estimators=100; total time=  23.9s\n",
      "[CV] END bootstrap=True, max_depth=10, max_features=0.5, min_samples_leaf=2, min_samples_split=5, n_estimators=100; total time=  28.0s\n",
      "[CV] END bootstrap=True, max_depth=10, max_features=0.5, min_samples_leaf=2, min_samples_split=5, n_estimators=200; total time=  56.0s\n",
      "[CV] END bootstrap=True, max_depth=10, max_features=0.7, min_samples_leaf=1, min_samples_split=2, n_estimators=200; total time= 1.1min\n",
      "[CV] END bootstrap=True, max_depth=10, max_features=0.7, min_samples_leaf=1, min_samples_split=5, n_estimators=200; total time= 1.0min\n",
      "[CV] END bootstrap=True, max_depth=10, max_features=0.7, min_samples_leaf=2, min_samples_split=2, n_estimators=200; total time= 1.1min\n",
      "[CV] END bootstrap=True, max_depth=20, max_features=0.5, min_samples_leaf=1, min_samples_split=2, n_estimators=100; total time=  46.5s\n",
      "[CV] END bootstrap=True, max_depth=10, max_features=0.5, min_samples_leaf=1, min_samples_split=2, n_estimators=200; total time=  54.1s\n",
      "[CV] END bootstrap=True, max_depth=10, max_features=0.5, min_samples_leaf=1, min_samples_split=5, n_estimators=200; total time=  55.1s\n",
      "[CV] END bootstrap=True, max_depth=10, max_features=0.5, min_samples_leaf=2, min_samples_split=2, n_estimators=200; total time=  51.7s\n",
      "[CV] END bootstrap=True, max_depth=10, max_features=0.5, min_samples_leaf=2, min_samples_split=5, n_estimators=200; total time=  56.2s\n",
      "[CV] END bootstrap=True, max_depth=10, max_features=0.7, min_samples_leaf=1, min_samples_split=2, n_estimators=200; total time= 1.1min\n",
      "[CV] END bootstrap=True, max_depth=10, max_features=0.7, min_samples_leaf=1, min_samples_split=5, n_estimators=200; total time= 1.0min\n",
      "[CV] END bootstrap=True, max_depth=10, max_features=0.7, min_samples_leaf=2, min_samples_split=5, n_estimators=100; total time=  33.1s\n",
      "[CV] END bootstrap=True, max_depth=10, max_features=0.7, min_samples_leaf=2, min_samples_split=5, n_estimators=100; total time=  30.2s\n",
      "[CV] END bootstrap=True, max_depth=20, max_features=0.5, min_samples_leaf=1, min_samples_split=2, n_estimators=100; total time=  46.9s\n",
      "[CV] END bootstrap=True, max_depth=10, max_features=0.5, min_samples_leaf=1, min_samples_split=2, n_estimators=200; total time=  53.7s\n",
      "[CV] END bootstrap=True, max_depth=10, max_features=0.5, min_samples_leaf=1, min_samples_split=5, n_estimators=100; total time=  25.1s\n",
      "[CV] END bootstrap=True, max_depth=10, max_features=0.5, min_samples_leaf=1, min_samples_split=5, n_estimators=200; total time=  53.6s\n",
      "[CV] END bootstrap=True, max_depth=10, max_features=0.5, min_samples_leaf=2, min_samples_split=5, n_estimators=100; total time=  27.7s\n",
      "[CV] END bootstrap=True, max_depth=10, max_features=0.5, min_samples_leaf=2, min_samples_split=5, n_estimators=100; total time=  28.3s\n",
      "[CV] END bootstrap=True, max_depth=10, max_features=0.7, min_samples_leaf=1, min_samples_split=2, n_estimators=100; total time=  33.4s\n",
      "[CV] END bootstrap=True, max_depth=10, max_features=0.7, min_samples_leaf=1, min_samples_split=2, n_estimators=200; total time= 1.1min\n",
      "[CV] END bootstrap=True, max_depth=10, max_features=0.7, min_samples_leaf=2, min_samples_split=2, n_estimators=100; total time=  30.3s\n",
      "[CV] END bootstrap=True, max_depth=10, max_features=0.7, min_samples_leaf=2, min_samples_split=2, n_estimators=100; total time=  32.1s\n",
      "[CV] END bootstrap=True, max_depth=10, max_features=0.7, min_samples_leaf=2, min_samples_split=5, n_estimators=100; total time=  33.3s\n",
      "[CV] END bootstrap=True, max_depth=10, max_features=0.7, min_samples_leaf=2, min_samples_split=5, n_estimators=100; total time=  29.6s\n",
      "[CV] END bootstrap=True, max_depth=20, max_features=0.5, min_samples_leaf=1, min_samples_split=2, n_estimators=100; total time=  47.0s\n",
      "[CV] END bootstrap=True, max_depth=10, max_features=0.5, min_samples_leaf=1, min_samples_split=2, n_estimators=100; total time=  26.6s\n",
      "[CV] END bootstrap=True, max_depth=10, max_features=0.5, min_samples_leaf=1, min_samples_split=2, n_estimators=200; total time=  52.4s\n",
      "[CV] END bootstrap=True, max_depth=10, max_features=0.5, min_samples_leaf=2, min_samples_split=2, n_estimators=100; total time=  29.9s\n",
      "[CV] END bootstrap=True, max_depth=10, max_features=0.5, min_samples_leaf=2, min_samples_split=2, n_estimators=100; total time=  23.8s\n",
      "[CV] END bootstrap=True, max_depth=10, max_features=0.5, min_samples_leaf=2, min_samples_split=5, n_estimators=100; total time=  28.0s\n",
      "[CV] END bootstrap=True, max_depth=10, max_features=0.5, min_samples_leaf=2, min_samples_split=5, n_estimators=100; total time=  27.8s\n",
      "[CV] END bootstrap=True, max_depth=10, max_features=0.7, min_samples_leaf=1, min_samples_split=2, n_estimators=100; total time=  33.6s\n",
      "[CV] END bootstrap=True, max_depth=10, max_features=0.7, min_samples_leaf=1, min_samples_split=5, n_estimators=100; total time=  32.6s\n",
      "[CV] END bootstrap=True, max_depth=10, max_features=0.7, min_samples_leaf=1, min_samples_split=5, n_estimators=100; total time=  30.7s\n",
      "[CV] END bootstrap=True, max_depth=10, max_features=0.7, min_samples_leaf=2, min_samples_split=2, n_estimators=100; total time=  30.8s\n",
      "[CV] END bootstrap=True, max_depth=10, max_features=0.7, min_samples_leaf=2, min_samples_split=2, n_estimators=100; total time=  32.3s\n",
      "[CV] END bootstrap=True, max_depth=10, max_features=0.7, min_samples_leaf=2, min_samples_split=5, n_estimators=100; total time=  33.4s\n",
      "[CV] END bootstrap=True, max_depth=10, max_features=0.7, min_samples_leaf=2, min_samples_split=5, n_estimators=200; total time=  58.5s\n",
      "[CV] END bootstrap=True, max_depth=20, max_features=0.5, min_samples_leaf=1, min_samples_split=2, n_estimators=100; total time=  46.8s\n",
      "[CV] END bootstrap=True, max_depth=10, max_features=0.5, min_samples_leaf=1, min_samples_split=2, n_estimators=100; total time=  26.8s\n",
      "[CV] END bootstrap=True, max_depth=10, max_features=0.5, min_samples_leaf=1, min_samples_split=5, n_estimators=100; total time=  27.1s\n",
      "[CV] END bootstrap=True, max_depth=10, max_features=0.5, min_samples_leaf=1, min_samples_split=5, n_estimators=200; total time=  55.6s\n",
      "[CV] END bootstrap=True, max_depth=10, max_features=0.5, min_samples_leaf=2, min_samples_split=2, n_estimators=200; total time=  51.9s\n",
      "[CV] END bootstrap=True, max_depth=10, max_features=0.7, min_samples_leaf=1, min_samples_split=2, n_estimators=100; total time=  34.1s\n",
      "[CV] END bootstrap=True, max_depth=10, max_features=0.7, min_samples_leaf=1, min_samples_split=2, n_estimators=100; total time=  33.2s\n",
      "[CV] END bootstrap=True, max_depth=10, max_features=0.7, min_samples_leaf=1, min_samples_split=5, n_estimators=100; total time=  32.9s\n",
      "[CV] END bootstrap=True, max_depth=10, max_features=0.7, min_samples_leaf=1, min_samples_split=5, n_estimators=100; total time=  30.1s\n",
      "[CV] END bootstrap=True, max_depth=10, max_features=0.7, min_samples_leaf=2, min_samples_split=2, n_estimators=100; total time=  30.9s\n",
      "[CV] END bootstrap=True, max_depth=10, max_features=0.7, min_samples_leaf=2, min_samples_split=2, n_estimators=200; total time= 1.1min\n",
      "[CV] END bootstrap=True, max_depth=10, max_features=0.7, min_samples_leaf=2, min_samples_split=5, n_estimators=200; total time=  58.5s\n",
      "[CV] END bootstrap=True, max_depth=20, max_features=0.5, min_samples_leaf=1, min_samples_split=2, n_estimators=100; total time=  46.7s\n",
      "[CV] END bootstrap=True, max_depth=10, max_features=0.5, min_samples_leaf=1, min_samples_split=2, n_estimators=100; total time=  26.7s\n",
      "[CV] END bootstrap=True, max_depth=10, max_features=0.5, min_samples_leaf=1, min_samples_split=5, n_estimators=100; total time=  27.2s\n",
      "[CV] END bootstrap=True, max_depth=10, max_features=0.5, min_samples_leaf=1, min_samples_split=5, n_estimators=200; total time=  55.2s\n",
      "[CV] END bootstrap=True, max_depth=10, max_features=0.5, min_samples_leaf=2, min_samples_split=2, n_estimators=200; total time=  51.6s\n",
      "[CV] END bootstrap=True, max_depth=10, max_features=0.5, min_samples_leaf=2, min_samples_split=5, n_estimators=200; total time=  55.9s\n",
      "[CV] END bootstrap=True, max_depth=10, max_features=0.7, min_samples_leaf=1, min_samples_split=2, n_estimators=100; total time=  32.6s\n",
      "[CV] END bootstrap=True, max_depth=10, max_features=0.7, min_samples_leaf=1, min_samples_split=5, n_estimators=100; total time=  30.9s\n",
      "[CV] END bootstrap=True, max_depth=10, max_features=0.7, min_samples_leaf=1, min_samples_split=5, n_estimators=200; total time= 1.0min\n",
      "[CV] END bootstrap=True, max_depth=10, max_features=0.7, min_samples_leaf=2, min_samples_split=2, n_estimators=200; total time= 1.1min\n",
      "[CV] END bootstrap=True, max_depth=10, max_features=0.7, min_samples_leaf=2, min_samples_split=5, n_estimators=200; total time=  57.3s\n",
      "[CV] END bootstrap=True, max_depth=20, max_features=0.5, min_samples_leaf=1, min_samples_split=2, n_estimators=200; total time= 1.7min\n",
      "[CV] END bootstrap=True, max_depth=10, max_features=0.5, min_samples_leaf=1, min_samples_split=2, n_estimators=200; total time=  53.8s\n",
      "[CV] END bootstrap=True, max_depth=10, max_features=0.5, min_samples_leaf=1, min_samples_split=5, n_estimators=100; total time=  25.5s\n",
      "[CV] END bootstrap=True, max_depth=10, max_features=0.5, min_samples_leaf=2, min_samples_split=2, n_estimators=100; total time=  30.2s\n",
      "[CV] END bootstrap=True, max_depth=10, max_features=0.5, min_samples_leaf=2, min_samples_split=2, n_estimators=200; total time=  51.8s\n",
      "[CV] END bootstrap=True, max_depth=10, max_features=0.5, min_samples_leaf=2, min_samples_split=5, n_estimators=200; total time=  55.6s\n",
      "[CV] END bootstrap=True, max_depth=10, max_features=0.7, min_samples_leaf=1, min_samples_split=2, n_estimators=200; total time= 1.1min\n",
      "[CV] END bootstrap=True, max_depth=10, max_features=0.7, min_samples_leaf=1, min_samples_split=5, n_estimators=200; total time= 1.0min\n",
      "[CV] END bootstrap=True, max_depth=10, max_features=0.7, min_samples_leaf=2, min_samples_split=2, n_estimators=200; total time= 1.1min\n",
      "[CV] END bootstrap=True, max_depth=10, max_features=0.7, min_samples_leaf=2, min_samples_split=5, n_estimators=200; total time=  57.3s\n",
      "[CV] END bootstrap=True, max_depth=20, max_features=0.5, min_samples_leaf=1, min_samples_split=2, n_estimators=200; total time= 1.7min\n",
      "[CV] END bootstrap=True, max_depth=10, max_features=0.5, min_samples_leaf=1, min_samples_split=2, n_estimators=100; total time=  26.8s\n",
      "[CV] END bootstrap=True, max_depth=10, max_features=0.5, min_samples_leaf=1, min_samples_split=5, n_estimators=100; total time=  27.1s\n",
      "[CV] END bootstrap=True, max_depth=10, max_features=0.5, min_samples_leaf=1, min_samples_split=5, n_estimators=200; total time=  55.6s\n",
      "[CV] END bootstrap=True, max_depth=10, max_features=0.5, min_samples_leaf=2, min_samples_split=2, n_estimators=200; total time=  51.7s\n",
      "[CV] END bootstrap=True, max_depth=10, max_features=0.5, min_samples_leaf=2, min_samples_split=5, n_estimators=200; total time=  55.9s\n",
      "[CV] END bootstrap=True, max_depth=10, max_features=0.7, min_samples_leaf=1, min_samples_split=2, n_estimators=200; total time= 1.1min\n",
      "[CV] END bootstrap=True, max_depth=10, max_features=0.7, min_samples_leaf=1, min_samples_split=5, n_estimators=200; total time= 1.0min\n",
      "[CV] END bootstrap=True, max_depth=10, max_features=0.7, min_samples_leaf=2, min_samples_split=2, n_estimators=200; total time= 1.1min\n",
      "[CV] END bootstrap=True, max_depth=10, max_features=0.7, min_samples_leaf=2, min_samples_split=5, n_estimators=200; total time=  57.5s\n",
      "[CV] END bootstrap=True, max_depth=20, max_features=0.5, min_samples_leaf=1, min_samples_split=5, n_estimators=100; total time=  44.9s\n",
      "[CV] END bootstrap=True, max_depth=20, max_features=0.5, min_samples_leaf=1, min_samples_split=5, n_estimators=100; total time=  47.0s\n",
      "[CV] END bootstrap=True, max_depth=20, max_features=0.5, min_samples_leaf=1, min_samples_split=5, n_estimators=200; total time= 2.4min\n",
      "[CV] END bootstrap=True, max_depth=20, max_features=0.5, min_samples_leaf=1, min_samples_split=2, n_estimators=200; total time= 1.7min\n",
      "[CV] END bootstrap=True, max_depth=20, max_features=0.5, min_samples_leaf=1, min_samples_split=5, n_estimators=200; total time= 2.4min\n",
      "[CV] END bootstrap=True, max_depth=20, max_features=0.5, min_samples_leaf=1, min_samples_split=2, n_estimators=200; total time= 1.7min\n",
      "[CV] END bootstrap=True, max_depth=20, max_features=0.5, min_samples_leaf=1, min_samples_split=5, n_estimators=200; total time= 2.4min\n",
      "[CV] END bootstrap=True, max_depth=20, max_features=0.5, min_samples_leaf=1, min_samples_split=5, n_estimators=100; total time=  47.3s\n",
      "[CV] END bootstrap=True, max_depth=20, max_features=0.5, min_samples_leaf=1, min_samples_split=5, n_estimators=100; total time=  46.0s\n",
      "[CV] END bootstrap=True, max_depth=20, max_features=0.5, min_samples_leaf=2, min_samples_split=2, n_estimators=100; total time= 1.5min\n",
      "[CV] END bootstrap=True, max_depth=20, max_features=0.5, min_samples_leaf=2, min_samples_split=2, n_estimators=200; total time= 1.6min\n",
      "[CV] END bootstrap=True, max_depth=20, max_features=0.5, min_samples_leaf=1, min_samples_split=5, n_estimators=100; total time=  47.5s\n",
      "[CV] END bootstrap=True, max_depth=20, max_features=0.5, min_samples_leaf=1, min_samples_split=5, n_estimators=200; total time= 2.3min\n",
      "[CV] END bootstrap=True, max_depth=20, max_features=0.5, min_samples_leaf=2, min_samples_split=2, n_estimators=200; total time= 1.5min\n",
      "[CV] END bootstrap=True, max_depth=20, max_features=0.5, min_samples_leaf=2, min_samples_split=2, n_estimators=100; total time= 1.2min\n",
      "[CV] END bootstrap=True, max_depth=20, max_features=0.5, min_samples_leaf=2, min_samples_split=2, n_estimators=100; total time= 1.1min\n",
      "[CV] END bootstrap=True, max_depth=20, max_features=0.5, min_samples_leaf=2, min_samples_split=5, n_estimators=100; total time=  42.6s\n",
      "[CV] END bootstrap=True, max_depth=20, max_features=0.5, min_samples_leaf=2, min_samples_split=5, n_estimators=100; total time=  41.7s\n",
      "[CV] END bootstrap=True, max_depth=20, max_features=0.7, min_samples_leaf=1, min_samples_split=2, n_estimators=100; total time=  56.7s\n",
      "[CV] END bootstrap=True, max_depth=20, max_features=0.5, min_samples_leaf=2, min_samples_split=2, n_estimators=100; total time= 1.2min\n",
      "[CV] END bootstrap=True, max_depth=20, max_features=0.5, min_samples_leaf=2, min_samples_split=2, n_estimators=100; total time= 1.1min\n",
      "[CV] END bootstrap=True, max_depth=20, max_features=0.5, min_samples_leaf=2, min_samples_split=5, n_estimators=100; total time=  42.7s\n",
      "[CV] END bootstrap=True, max_depth=20, max_features=0.5, min_samples_leaf=2, min_samples_split=5, n_estimators=200; total time= 1.4min\n",
      "[CV] END bootstrap=True, max_depth=20, max_features=0.7, min_samples_leaf=1, min_samples_split=2, n_estimators=100; total time=  58.2s\n",
      "[CV] END bootstrap=True, max_depth=20, max_features=0.5, min_samples_leaf=2, min_samples_split=5, n_estimators=200; total time= 1.4min\n",
      "[CV] END bootstrap=True, max_depth=20, max_features=0.7, min_samples_leaf=1, min_samples_split=2, n_estimators=200; total time= 1.9min\n",
      "[CV] END bootstrap=True, max_depth=20, max_features=0.5, min_samples_leaf=2, min_samples_split=5, n_estimators=200; total time= 1.4min\n",
      "[CV] END bootstrap=True, max_depth=20, max_features=0.7, min_samples_leaf=1, min_samples_split=2, n_estimators=200; total time= 2.0min\n",
      "[CV] END bootstrap=True, max_depth=20, max_features=0.5, min_samples_leaf=2, min_samples_split=2, n_estimators=200; total time= 1.4min\n",
      "[CV] END bootstrap=True, max_depth=20, max_features=0.5, min_samples_leaf=2, min_samples_split=5, n_estimators=200; total time= 1.4min\n",
      "[CV] END bootstrap=True, max_depth=20, max_features=0.7, min_samples_leaf=1, min_samples_split=2, n_estimators=200; total time= 1.9min\n",
      "[CV] END bootstrap=True, max_depth=20, max_features=0.7, min_samples_leaf=1, min_samples_split=5, n_estimators=100; total time=  52.6s\n",
      "[CV] END bootstrap=True, max_depth=20, max_features=0.7, min_samples_leaf=1, min_samples_split=5, n_estimators=100; total time=  52.5s\n",
      "[CV] END bootstrap=True, max_depth=20, max_features=0.7, min_samples_leaf=2, min_samples_split=2, n_estimators=100; total time=  47.9s\n",
      "[CV] END bootstrap=True, max_depth=20, max_features=0.7, min_samples_leaf=2, min_samples_split=2, n_estimators=200; total time= 1.6min\n",
      "최적 파라미터:  {'bootstrap': True, 'max_depth': 20, 'max_features': 0.7, 'min_samples_leaf': 1, 'min_samples_split': 2, 'n_estimators': 200}\n"
     ]
    }
   ],
   "source": [
    "# 그리드 서치를 통해 최적의 파라미터 탐색\n",
    "grid_search = GridSearchCV(model, param_grid=param_grid, scoring='neg_mean_squared_error', cv=5, verbose=2, n_jobs=-1)\n",
    "grid_search.fit(train_x_sampled, train_y_sampled)\n",
    "\n",
    "# 최적의 파라미터 출력\n",
    "print(\"최적 파라미터: \", grid_search.best_params_)"
   ]
  },
  {
   "cell_type": "code",
   "execution_count": 24,
   "id": "714919b3-2f13-413d-84ca-96dcca64d800",
   "metadata": {},
   "outputs": [],
   "source": [
    "# 최적의 모델 선택\n",
    "best_model = grid_search.best_estimator_"
   ]
  },
  {
   "cell_type": "markdown",
   "id": "e59c15c2",
   "metadata": {},
   "source": [
    "## Test Data Pre-Processing"
   ]
  },
  {
   "cell_type": "code",
   "execution_count": 25,
   "id": "4ef9d2af",
   "metadata": {},
   "outputs": [],
   "source": [
    "# 학습 때 사용한 데이터와 동일한 형태로 변경합니다\n",
    "# test_df['month'] = test_df['일시'].apply(lambda x : int(x[4:6]))\n",
    "# test_df['day'] = test_df['일시'].apply(lambda x : int(x[6:8]))\n",
    "# test_df['time'] = test_df['일시'].apply(lambda x : int(x[9:11]))"
   ]
  },
  {
   "cell_type": "code",
   "execution_count": 26,
   "id": "4a468ca8-0550-49e5-8c45-80b5a2afe0e4",
   "metadata": {},
   "outputs": [],
   "source": [
    "# 테스트 데이터 변환\n",
    "test_df['일시'] = pd.to_datetime(test_df['일시'])\n",
    "test_df['month'] = test_df['일시'].dt.month\n",
    "test_df['day'] = test_df['일시'].dt.day\n",
    "test_df['time'] = test_df['일시'].dt.hour"
   ]
  },
  {
   "cell_type": "code",
   "execution_count": 27,
   "id": "2bc20578",
   "metadata": {},
   "outputs": [],
   "source": [
    "test_x = test_df.drop(columns=['num_date_time', '일시'])"
   ]
  },
  {
   "cell_type": "markdown",
   "id": "Uj-WTX6oQwY0",
   "metadata": {
    "id": "Uj-WTX6oQwY0"
   },
   "source": [
    "## Inference"
   ]
  },
  {
   "cell_type": "markdown",
   "id": "4e80c16d",
   "metadata": {},
   "source": [
    "모델 학습이 잘 되었다면 `predict` 함수를 통해 테스트 데이터에 대한 추론 결과를 획득할 수 있습니다.  "
   ]
  },
  {
   "cell_type": "code",
   "execution_count": 28,
   "id": "ENCOoU00QwY0",
   "metadata": {
    "executionInfo": {
     "elapsed": 7,
     "status": "ok",
     "timestamp": 1683473315989,
     "user": {
      "displayName": "이승윤",
      "userId": "17995305622900705411"
     },
     "user_tz": -540
    },
    "id": "ENCOoU00QwY0"
   },
   "outputs": [],
   "source": [
    "preds = model.predict(test_x)"
   ]
  },
  {
   "cell_type": "markdown",
   "id": "f46f6ea4",
   "metadata": {},
   "source": [
    "### 미션 5. 우리 팀은 몇 점?! 📑"
   ]
  },
  {
   "cell_type": "markdown",
   "id": "7aa5d636",
   "metadata": {},
   "source": [
    "코드를 그대로 실행하기만 한다면 항상 동일한 결과값이 나올 것입니다.  \n",
    "하지만 그렇게 해서는 배우는 것도 없고 원하는 목표를 달성할 수 없습니다!  "
   ]
  },
  {
   "cell_type": "markdown",
   "id": "830fc5ab",
   "metadata": {},
   "source": [
    "🎯 팀원들과 잘 상의해서 베이스라인을 개선해보세요. 그리고 그 결과물을 제출하고 획득한 점수를 공유해주세요!"
   ]
  },
  {
   "cell_type": "markdown",
   "id": "5FMPeTISQwY0",
   "metadata": {
    "id": "5FMPeTISQwY0"
   },
   "source": [
    "## Submission"
   ]
  },
  {
   "cell_type": "code",
   "execution_count": 29,
   "id": "AXO-EmaQQwY0",
   "metadata": {
    "executionInfo": {
     "elapsed": 368,
     "status": "ok",
     "timestamp": 1683473316927,
     "user": {
      "displayName": "이승윤",
      "userId": "17995305622900705411"
     },
     "user_tz": -540
    },
    "id": "AXO-EmaQQwY0"
   },
   "outputs": [
    {
     "data": {
      "text/html": [
       "<div>\n",
       "<style scoped>\n",
       "    .dataframe tbody tr th:only-of-type {\n",
       "        vertical-align: middle;\n",
       "    }\n",
       "\n",
       "    .dataframe tbody tr th {\n",
       "        vertical-align: top;\n",
       "    }\n",
       "\n",
       "    .dataframe thead th {\n",
       "        text-align: right;\n",
       "    }\n",
       "</style>\n",
       "<table border=\"1\" class=\"dataframe\">\n",
       "  <thead>\n",
       "    <tr style=\"text-align: right;\">\n",
       "      <th></th>\n",
       "      <th>num_date_time</th>\n",
       "      <th>answer</th>\n",
       "    </tr>\n",
       "  </thead>\n",
       "  <tbody>\n",
       "    <tr>\n",
       "      <th>0</th>\n",
       "      <td>1_20220825 00</td>\n",
       "      <td>0</td>\n",
       "    </tr>\n",
       "    <tr>\n",
       "      <th>1</th>\n",
       "      <td>1_20220825 01</td>\n",
       "      <td>0</td>\n",
       "    </tr>\n",
       "    <tr>\n",
       "      <th>2</th>\n",
       "      <td>1_20220825 02</td>\n",
       "      <td>0</td>\n",
       "    </tr>\n",
       "    <tr>\n",
       "      <th>3</th>\n",
       "      <td>1_20220825 03</td>\n",
       "      <td>0</td>\n",
       "    </tr>\n",
       "    <tr>\n",
       "      <th>4</th>\n",
       "      <td>1_20220825 04</td>\n",
       "      <td>0</td>\n",
       "    </tr>\n",
       "    <tr>\n",
       "      <th>...</th>\n",
       "      <td>...</td>\n",
       "      <td>...</td>\n",
       "    </tr>\n",
       "    <tr>\n",
       "      <th>16795</th>\n",
       "      <td>100_20220831 19</td>\n",
       "      <td>0</td>\n",
       "    </tr>\n",
       "    <tr>\n",
       "      <th>16796</th>\n",
       "      <td>100_20220831 20</td>\n",
       "      <td>0</td>\n",
       "    </tr>\n",
       "    <tr>\n",
       "      <th>16797</th>\n",
       "      <td>100_20220831 21</td>\n",
       "      <td>0</td>\n",
       "    </tr>\n",
       "    <tr>\n",
       "      <th>16798</th>\n",
       "      <td>100_20220831 22</td>\n",
       "      <td>0</td>\n",
       "    </tr>\n",
       "    <tr>\n",
       "      <th>16799</th>\n",
       "      <td>100_20220831 23</td>\n",
       "      <td>0</td>\n",
       "    </tr>\n",
       "  </tbody>\n",
       "</table>\n",
       "<p>16800 rows × 2 columns</p>\n",
       "</div>"
      ],
      "text/plain": [
       "         num_date_time  answer\n",
       "0        1_20220825 00       0\n",
       "1        1_20220825 01       0\n",
       "2        1_20220825 02       0\n",
       "3        1_20220825 03       0\n",
       "4        1_20220825 04       0\n",
       "...                ...     ...\n",
       "16795  100_20220831 19       0\n",
       "16796  100_20220831 20       0\n",
       "16797  100_20220831 21       0\n",
       "16798  100_20220831 22       0\n",
       "16799  100_20220831 23       0\n",
       "\n",
       "[16800 rows x 2 columns]"
      ]
     },
     "execution_count": 29,
     "metadata": {},
     "output_type": "execute_result"
    }
   ],
   "source": [
    "submission = pd.read_csv('open/sample_submission.csv')\n",
    "submission"
   ]
  },
  {
   "cell_type": "code",
   "execution_count": 31,
   "id": "a4bfa9ac",
   "metadata": {},
   "outputs": [
    {
     "data": {
      "text/html": [
       "<div>\n",
       "<style scoped>\n",
       "    .dataframe tbody tr th:only-of-type {\n",
       "        vertical-align: middle;\n",
       "    }\n",
       "\n",
       "    .dataframe tbody tr th {\n",
       "        vertical-align: top;\n",
       "    }\n",
       "\n",
       "    .dataframe thead th {\n",
       "        text-align: right;\n",
       "    }\n",
       "</style>\n",
       "<table border=\"1\" class=\"dataframe\">\n",
       "  <thead>\n",
       "    <tr style=\"text-align: right;\">\n",
       "      <th></th>\n",
       "      <th>num_date_time</th>\n",
       "      <th>answer</th>\n",
       "    </tr>\n",
       "  </thead>\n",
       "  <tbody>\n",
       "    <tr>\n",
       "      <th>0</th>\n",
       "      <td>1_20220825 00</td>\n",
       "      <td>2102.1312</td>\n",
       "    </tr>\n",
       "    <tr>\n",
       "      <th>1</th>\n",
       "      <td>1_20220825 01</td>\n",
       "      <td>2077.6416</td>\n",
       "    </tr>\n",
       "    <tr>\n",
       "      <th>2</th>\n",
       "      <td>1_20220825 02</td>\n",
       "      <td>1994.7648</td>\n",
       "    </tr>\n",
       "    <tr>\n",
       "      <th>3</th>\n",
       "      <td>1_20220825 03</td>\n",
       "      <td>1969.6896</td>\n",
       "    </tr>\n",
       "    <tr>\n",
       "      <th>4</th>\n",
       "      <td>1_20220825 04</td>\n",
       "      <td>1950.4704</td>\n",
       "    </tr>\n",
       "    <tr>\n",
       "      <th>...</th>\n",
       "      <td>...</td>\n",
       "      <td>...</td>\n",
       "    </tr>\n",
       "    <tr>\n",
       "      <th>16795</th>\n",
       "      <td>100_20220831 19</td>\n",
       "      <td>890.2224</td>\n",
       "    </tr>\n",
       "    <tr>\n",
       "      <th>16796</th>\n",
       "      <td>100_20220831 20</td>\n",
       "      <td>796.2816</td>\n",
       "    </tr>\n",
       "    <tr>\n",
       "      <th>16797</th>\n",
       "      <td>100_20220831 21</td>\n",
       "      <td>751.5048</td>\n",
       "    </tr>\n",
       "    <tr>\n",
       "      <th>16798</th>\n",
       "      <td>100_20220831 22</td>\n",
       "      <td>647.7360</td>\n",
       "    </tr>\n",
       "    <tr>\n",
       "      <th>16799</th>\n",
       "      <td>100_20220831 23</td>\n",
       "      <td>482.6352</td>\n",
       "    </tr>\n",
       "  </tbody>\n",
       "</table>\n",
       "<p>16800 rows × 2 columns</p>\n",
       "</div>"
      ],
      "text/plain": [
       "         num_date_time     answer\n",
       "0        1_20220825 00  2102.1312\n",
       "1        1_20220825 01  2077.6416\n",
       "2        1_20220825 02  1994.7648\n",
       "3        1_20220825 03  1969.6896\n",
       "4        1_20220825 04  1950.4704\n",
       "...                ...        ...\n",
       "16795  100_20220831 19   890.2224\n",
       "16796  100_20220831 20   796.2816\n",
       "16797  100_20220831 21   751.5048\n",
       "16798  100_20220831 22   647.7360\n",
       "16799  100_20220831 23   482.6352\n",
       "\n",
       "[16800 rows x 2 columns]"
      ]
     },
     "execution_count": 31,
     "metadata": {},
     "output_type": "execute_result"
    }
   ],
   "source": [
    "submission['answer'] = preds\n",
    "submission"
   ]
  },
  {
   "cell_type": "code",
   "execution_count": 31,
   "id": "2055d020",
   "metadata": {},
   "outputs": [
    {
     "data": {
      "text/html": [
       "<div>\n",
       "<style scoped>\n",
       "    .dataframe tbody tr th:only-of-type {\n",
       "        vertical-align: middle;\n",
       "    }\n",
       "\n",
       "    .dataframe tbody tr th {\n",
       "        vertical-align: top;\n",
       "    }\n",
       "\n",
       "    .dataframe thead th {\n",
       "        text-align: right;\n",
       "    }\n",
       "</style>\n",
       "<table border=\"1\" class=\"dataframe\">\n",
       "  <thead>\n",
       "    <tr style=\"text-align: right;\">\n",
       "      <th></th>\n",
       "      <th>num_date_time</th>\n",
       "      <th>answer</th>\n",
       "    </tr>\n",
       "  </thead>\n",
       "  <tbody>\n",
       "    <tr>\n",
       "      <th>0</th>\n",
       "      <td>1_20220825 00</td>\n",
       "      <td>2102.1312</td>\n",
       "    </tr>\n",
       "    <tr>\n",
       "      <th>1</th>\n",
       "      <td>1_20220825 01</td>\n",
       "      <td>2077.6416</td>\n",
       "    </tr>\n",
       "    <tr>\n",
       "      <th>2</th>\n",
       "      <td>1_20220825 02</td>\n",
       "      <td>1994.7648</td>\n",
       "    </tr>\n",
       "    <tr>\n",
       "      <th>3</th>\n",
       "      <td>1_20220825 03</td>\n",
       "      <td>1969.6896</td>\n",
       "    </tr>\n",
       "    <tr>\n",
       "      <th>4</th>\n",
       "      <td>1_20220825 04</td>\n",
       "      <td>1950.4704</td>\n",
       "    </tr>\n",
       "    <tr>\n",
       "      <th>...</th>\n",
       "      <td>...</td>\n",
       "      <td>...</td>\n",
       "    </tr>\n",
       "    <tr>\n",
       "      <th>16795</th>\n",
       "      <td>100_20220831 19</td>\n",
       "      <td>890.2224</td>\n",
       "    </tr>\n",
       "    <tr>\n",
       "      <th>16796</th>\n",
       "      <td>100_20220831 20</td>\n",
       "      <td>796.2816</td>\n",
       "    </tr>\n",
       "    <tr>\n",
       "      <th>16797</th>\n",
       "      <td>100_20220831 21</td>\n",
       "      <td>751.5048</td>\n",
       "    </tr>\n",
       "    <tr>\n",
       "      <th>16798</th>\n",
       "      <td>100_20220831 22</td>\n",
       "      <td>647.7360</td>\n",
       "    </tr>\n",
       "    <tr>\n",
       "      <th>16799</th>\n",
       "      <td>100_20220831 23</td>\n",
       "      <td>482.6352</td>\n",
       "    </tr>\n",
       "  </tbody>\n",
       "</table>\n",
       "<p>16800 rows × 2 columns</p>\n",
       "</div>"
      ],
      "text/plain": [
       "         num_date_time     answer\n",
       "0        1_20220825 00  2102.1312\n",
       "1        1_20220825 01  2077.6416\n",
       "2        1_20220825 02  1994.7648\n",
       "3        1_20220825 03  1969.6896\n",
       "4        1_20220825 04  1950.4704\n",
       "...                ...        ...\n",
       "16795  100_20220831 19   890.2224\n",
       "16796  100_20220831 20   796.2816\n",
       "16797  100_20220831 21   751.5048\n",
       "16798  100_20220831 22   647.7360\n",
       "16799  100_20220831 23   482.6352\n",
       "\n",
       "[16800 rows x 2 columns]"
      ]
     },
     "execution_count": 31,
     "metadata": {},
     "output_type": "execute_result"
    }
   ],
   "source": [
    "submission['answer'] = preds\n",
    "submission"
   ]
  },
  {
   "cell_type": "code",
   "execution_count": 32,
   "id": "830d6036",
   "metadata": {},
   "outputs": [
    {
     "name": "stdout",
     "output_type": "stream",
     "text": [
      "[CV] END bootstrap=True, max_depth=20, max_features=0.7, min_samples_leaf=1, min_samples_split=5, n_estimators=200; total time= 1.6min\n",
      "[CV] END bootstrap=True, max_depth=20, max_features=0.7, min_samples_leaf=2, min_samples_split=2, n_estimators=200; total time= 1.7min\n",
      "[CV] END bootstrap=True, max_depth=20, max_features=0.7, min_samples_leaf=1, min_samples_split=5, n_estimators=200; total time= 1.6min\n",
      "[CV] END bootstrap=True, max_depth=20, max_features=0.7, min_samples_leaf=2, min_samples_split=5, n_estimators=100; total time=  49.2s\n",
      "[CV] END bootstrap=True, max_depth=20, max_features=0.7, min_samples_leaf=2, min_samples_split=5, n_estimators=100; total time=  48.5s\n",
      "[CV] END bootstrap=True, max_depth=20, max_features=0.5, min_samples_leaf=1, min_samples_split=2, n_estimators=200; total time= 1.7min\n",
      "[CV] END bootstrap=True, max_depth=20, max_features=0.5, min_samples_leaf=1, min_samples_split=5, n_estimators=200; total time= 2.4min\n",
      "[CV] END bootstrap=True, max_depth=20, max_features=0.5, min_samples_leaf=2, min_samples_split=5, n_estimators=100; total time=  43.1s\n",
      "[CV] END bootstrap=True, max_depth=20, max_features=0.5, min_samples_leaf=2, min_samples_split=5, n_estimators=100; total time=  41.9s\n",
      "[CV] END bootstrap=True, max_depth=20, max_features=0.5, min_samples_leaf=2, min_samples_split=5, n_estimators=200; total time= 1.4min\n",
      "[CV] END bootstrap=True, max_depth=20, max_features=0.7, min_samples_leaf=1, min_samples_split=5, n_estimators=100; total time=  53.4s\n",
      "[CV] END bootstrap=True, max_depth=20, max_features=0.7, min_samples_leaf=1, min_samples_split=5, n_estimators=100; total time=  54.0s\n",
      "[CV] END bootstrap=True, max_depth=20, max_features=0.7, min_samples_leaf=2, min_samples_split=2, n_estimators=100; total time=  47.9s\n",
      "[CV] END bootstrap=True, max_depth=20, max_features=0.7, min_samples_leaf=2, min_samples_split=2, n_estimators=100; total time=  48.9s\n",
      "[CV] END bootstrap=True, max_depth=20, max_features=0.7, min_samples_leaf=2, min_samples_split=5, n_estimators=100; total time=  49.3s\n",
      "[CV] END bootstrap=True, max_depth=20, max_features=0.7, min_samples_leaf=2, min_samples_split=5, n_estimators=100; total time=  48.3s\n",
      "[CV] END bootstrap=True, max_depth=20, max_features=0.7, min_samples_leaf=2, min_samples_split=2, n_estimators=100; total time=  47.9s\n",
      "[CV] END bootstrap=True, max_depth=20, max_features=0.7, min_samples_leaf=2, min_samples_split=2, n_estimators=100; total time=  49.7s\n",
      "[CV] END bootstrap=True, max_depth=20, max_features=0.7, min_samples_leaf=2, min_samples_split=5, n_estimators=100; total time=  48.7s\n",
      "[CV] END bootstrap=True, max_depth=20, max_features=0.7, min_samples_leaf=2, min_samples_split=5, n_estimators=200; total time= 1.5min\n",
      "[CV] END bootstrap=True, max_depth=20, max_features=0.7, min_samples_leaf=2, min_samples_split=5, n_estimators=200; total time= 1.4min\n",
      "[CV] END bootstrap=True, max_depth=20, max_features=0.5, min_samples_leaf=2, min_samples_split=2, n_estimators=200; total time= 1.4min\n",
      "[CV] END bootstrap=True, max_depth=20, max_features=0.7, min_samples_leaf=1, min_samples_split=2, n_estimators=100; total time=  56.6s\n",
      "[CV] END bootstrap=True, max_depth=20, max_features=0.7, min_samples_leaf=1, min_samples_split=2, n_estimators=100; total time=  58.9s\n",
      "[CV] END bootstrap=True, max_depth=20, max_features=0.7, min_samples_leaf=1, min_samples_split=5, n_estimators=100; total time=  52.2s\n",
      "[CV] END bootstrap=True, max_depth=20, max_features=0.7, min_samples_leaf=1, min_samples_split=5, n_estimators=200; total time= 1.7min\n",
      "[CV] END bootstrap=True, max_depth=20, max_features=0.7, min_samples_leaf=2, min_samples_split=2, n_estimators=200; total time= 1.7min\n",
      "[CV] END bootstrap=True, max_depth=20, max_features=0.7, min_samples_leaf=2, min_samples_split=5, n_estimators=200; total time= 1.4min\n",
      "[CV] END bootstrap=True, max_depth=20, max_features=0.5, min_samples_leaf=2, min_samples_split=2, n_estimators=200; total time= 1.4min\n",
      "[CV] END bootstrap=True, max_depth=20, max_features=0.7, min_samples_leaf=1, min_samples_split=2, n_estimators=100; total time=  56.9s\n",
      "[CV] END bootstrap=True, max_depth=20, max_features=0.7, min_samples_leaf=1, min_samples_split=2, n_estimators=200; total time= 2.0min\n",
      "[CV] END bootstrap=True, max_depth=20, max_features=0.7, min_samples_leaf=1, min_samples_split=5, n_estimators=200; total time= 1.7min\n",
      "[CV] END bootstrap=True, max_depth=20, max_features=0.7, min_samples_leaf=2, min_samples_split=2, n_estimators=200; total time= 1.7min\n",
      "[CV] END bootstrap=True, max_depth=20, max_features=0.7, min_samples_leaf=2, min_samples_split=5, n_estimators=200; total time= 1.3min\n",
      "[CV] END bootstrap=True, max_depth=20, max_features=0.7, min_samples_leaf=1, min_samples_split=2, n_estimators=200; total time= 1.9min\n",
      "[CV] END bootstrap=True, max_depth=20, max_features=0.7, min_samples_leaf=1, min_samples_split=5, n_estimators=200; total time= 1.6min\n",
      "[CV] END bootstrap=True, max_depth=20, max_features=0.7, min_samples_leaf=2, min_samples_split=2, n_estimators=200; total time= 1.7min\n",
      "[CV] END bootstrap=True, max_depth=20, max_features=0.7, min_samples_leaf=2, min_samples_split=5, n_estimators=200; total time= 1.3min\n"
     ]
    }
   ],
   "source": [
    "submission.to_csv('open/baseline_submission.csv', index=False)"
   ]
  },
  {
   "cell_type": "code",
   "execution_count": null,
   "id": "aa3f4502-6d35-42e8-b90d-a0b37584140b",
   "metadata": {},
   "outputs": [],
   "source": []
  }
 ],
 "metadata": {
  "accelerator": "GPU",
  "colab": {
   "provenance": []
  },
  "gpuClass": "standard",
  "kernelspec": {
   "display_name": "Python 3 (ipykernel)",
   "language": "python",
   "name": "python3"
  },
  "language_info": {
   "codemirror_mode": {
    "name": "ipython",
    "version": 3
   },
   "file_extension": ".py",
   "mimetype": "text/x-python",
   "name": "python",
   "nbconvert_exporter": "python",
   "pygments_lexer": "ipython3",
   "version": "3.10.9"
  },
  "toc": {
   "base_numbering": 1,
   "nav_menu": {},
   "number_sections": true,
   "sideBar": true,
   "skip_h1_title": false,
   "title_cell": "Table of Contents",
   "title_sidebar": "Contents",
   "toc_cell": false,
   "toc_position": {},
   "toc_section_display": true,
   "toc_window_display": false
  },
  "widgets": {
   "application/vnd.jupyter.widget-state+json": {
    "09436c3ae2a44a8ca51ee1103b963ada": {
     "model_module": "@jupyter-widgets/base",
     "model_module_version": "1.2.0",
     "model_name": "LayoutModel",
     "state": {
      "_model_module": "@jupyter-widgets/base",
      "_model_module_version": "1.2.0",
      "_model_name": "LayoutModel",
      "_view_count": null,
      "_view_module": "@jupyter-widgets/base",
      "_view_module_version": "1.2.0",
      "_view_name": "LayoutView",
      "align_content": null,
      "align_items": null,
      "align_self": null,
      "border": null,
      "bottom": null,
      "display": null,
      "flex": null,
      "flex_flow": null,
      "grid_area": null,
      "grid_auto_columns": null,
      "grid_auto_flow": null,
      "grid_auto_rows": null,
      "grid_column": null,
      "grid_gap": null,
      "grid_row": null,
      "grid_template_areas": null,
      "grid_template_columns": null,
      "grid_template_rows": null,
      "height": null,
      "justify_content": null,
      "justify_items": null,
      "left": null,
      "margin": null,
      "max_height": null,
      "max_width": null,
      "min_height": null,
      "min_width": null,
      "object_fit": null,
      "object_position": null,
      "order": null,
      "overflow": null,
      "overflow_x": null,
      "overflow_y": null,
      "padding": null,
      "right": null,
      "top": null,
      "visibility": null,
      "width": null
     }
    },
    "29d20f64d430441ea9364b13dfef101b": {
     "model_module": "@jupyter-widgets/base",
     "model_module_version": "1.2.0",
     "model_name": "LayoutModel",
     "state": {
      "_model_module": "@jupyter-widgets/base",
      "_model_module_version": "1.2.0",
      "_model_name": "LayoutModel",
      "_view_count": null,
      "_view_module": "@jupyter-widgets/base",
      "_view_module_version": "1.2.0",
      "_view_name": "LayoutView",
      "align_content": null,
      "align_items": null,
      "align_self": null,
      "border": null,
      "bottom": null,
      "display": null,
      "flex": null,
      "flex_flow": null,
      "grid_area": null,
      "grid_auto_columns": null,
      "grid_auto_flow": null,
      "grid_auto_rows": null,
      "grid_column": null,
      "grid_gap": null,
      "grid_row": null,
      "grid_template_areas": null,
      "grid_template_columns": null,
      "grid_template_rows": null,
      "height": null,
      "justify_content": null,
      "justify_items": null,
      "left": null,
      "margin": null,
      "max_height": null,
      "max_width": null,
      "min_height": null,
      "min_width": null,
      "object_fit": null,
      "object_position": null,
      "order": null,
      "overflow": null,
      "overflow_x": null,
      "overflow_y": null,
      "padding": null,
      "right": null,
      "top": null,
      "visibility": null,
      "width": null
     }
    },
    "4a9ef407319c43bcb20106c47f0db180": {
     "model_module": "@jupyter-widgets/controls",
     "model_module_version": "1.5.0",
     "model_name": "HTMLModel",
     "state": {
      "_dom_classes": [],
      "_model_module": "@jupyter-widgets/controls",
      "_model_module_version": "1.5.0",
      "_model_name": "HTMLModel",
      "_view_count": null,
      "_view_module": "@jupyter-widgets/controls",
      "_view_module_version": "1.5.0",
      "_view_name": "HTMLView",
      "description": "",
      "description_tooltip": null,
      "layout": "IPY_MODEL_09436c3ae2a44a8ca51ee1103b963ada",
      "placeholder": "​",
      "style": "IPY_MODEL_f6d802990a2344db99bf282c663efa5a",
      "value": "100%"
     }
    },
    "4c356887768a4330ab0b0eec28984484": {
     "model_module": "@jupyter-widgets/controls",
     "model_module_version": "1.5.0",
     "model_name": "DescriptionStyleModel",
     "state": {
      "_model_module": "@jupyter-widgets/controls",
      "_model_module_version": "1.5.0",
      "_model_name": "DescriptionStyleModel",
      "_view_count": null,
      "_view_module": "@jupyter-widgets/base",
      "_view_module_version": "1.2.0",
      "_view_name": "StyleView",
      "description_width": ""
     }
    },
    "520b45d5f972463da632a32f96c71ee4": {
     "model_module": "@jupyter-widgets/controls",
     "model_module_version": "1.5.0",
     "model_name": "HTMLModel",
     "state": {
      "_dom_classes": [],
      "_model_module": "@jupyter-widgets/controls",
      "_model_module_version": "1.5.0",
      "_model_name": "HTMLModel",
      "_view_count": null,
      "_view_module": "@jupyter-widgets/controls",
      "_view_module_version": "1.5.0",
      "_view_name": "HTMLView",
      "description": "",
      "description_tooltip": null,
      "layout": "IPY_MODEL_29d20f64d430441ea9364b13dfef101b",
      "placeholder": "​",
      "style": "IPY_MODEL_e7d3b9b9d1224868988e665b4c677357",
      "value": " 1881/1881 [00:24&lt;00:00, 97.61it/s]"
     }
    },
    "53ccb4062ee94e0c84618143ff39ce05": {
     "model_module": "@jupyter-widgets/base",
     "model_module_version": "1.2.0",
     "model_name": "LayoutModel",
     "state": {
      "_model_module": "@jupyter-widgets/base",
      "_model_module_version": "1.2.0",
      "_model_name": "LayoutModel",
      "_view_count": null,
      "_view_module": "@jupyter-widgets/base",
      "_view_module_version": "1.2.0",
      "_view_name": "LayoutView",
      "align_content": null,
      "align_items": null,
      "align_self": null,
      "border": null,
      "bottom": null,
      "display": null,
      "flex": null,
      "flex_flow": null,
      "grid_area": null,
      "grid_auto_columns": null,
      "grid_auto_flow": null,
      "grid_auto_rows": null,
      "grid_column": null,
      "grid_gap": null,
      "grid_row": null,
      "grid_template_areas": null,
      "grid_template_columns": null,
      "grid_template_rows": null,
      "height": null,
      "justify_content": null,
      "justify_items": null,
      "left": null,
      "margin": null,
      "max_height": null,
      "max_width": null,
      "min_height": null,
      "min_width": null,
      "object_fit": null,
      "object_position": null,
      "order": null,
      "overflow": null,
      "overflow_x": null,
      "overflow_y": null,
      "padding": null,
      "right": null,
      "top": null,
      "visibility": null,
      "width": null
     }
    },
    "55e857853048445b87cea2de151ba035": {
     "model_module": "@jupyter-widgets/base",
     "model_module_version": "1.2.0",
     "model_name": "LayoutModel",
     "state": {
      "_model_module": "@jupyter-widgets/base",
      "_model_module_version": "1.2.0",
      "_model_name": "LayoutModel",
      "_view_count": null,
      "_view_module": "@jupyter-widgets/base",
      "_view_module_version": "1.2.0",
      "_view_name": "LayoutView",
      "align_content": null,
      "align_items": null,
      "align_self": null,
      "border": null,
      "bottom": null,
      "display": null,
      "flex": null,
      "flex_flow": null,
      "grid_area": null,
      "grid_auto_columns": null,
      "grid_auto_flow": null,
      "grid_auto_rows": null,
      "grid_column": null,
      "grid_gap": null,
      "grid_row": null,
      "grid_template_areas": null,
      "grid_template_columns": null,
      "grid_template_rows": null,
      "height": null,
      "justify_content": null,
      "justify_items": null,
      "left": null,
      "margin": null,
      "max_height": null,
      "max_width": null,
      "min_height": null,
      "min_width": null,
      "object_fit": null,
      "object_position": null,
      "order": null,
      "overflow": null,
      "overflow_x": null,
      "overflow_y": null,
      "padding": null,
      "right": null,
      "top": null,
      "visibility": null,
      "width": null
     }
    },
    "790f3379b0364c88ae6bdec739b97248": {
     "model_module": "@jupyter-widgets/base",
     "model_module_version": "1.2.0",
     "model_name": "LayoutModel",
     "state": {
      "_model_module": "@jupyter-widgets/base",
      "_model_module_version": "1.2.0",
      "_model_name": "LayoutModel",
      "_view_count": null,
      "_view_module": "@jupyter-widgets/base",
      "_view_module_version": "1.2.0",
      "_view_name": "LayoutView",
      "align_content": null,
      "align_items": null,
      "align_self": null,
      "border": null,
      "bottom": null,
      "display": null,
      "flex": null,
      "flex_flow": null,
      "grid_area": null,
      "grid_auto_columns": null,
      "grid_auto_flow": null,
      "grid_auto_rows": null,
      "grid_column": null,
      "grid_gap": null,
      "grid_row": null,
      "grid_template_areas": null,
      "grid_template_columns": null,
      "grid_template_rows": null,
      "height": null,
      "justify_content": null,
      "justify_items": null,
      "left": null,
      "margin": null,
      "max_height": null,
      "max_width": null,
      "min_height": null,
      "min_width": null,
      "object_fit": null,
      "object_position": null,
      "order": null,
      "overflow": null,
      "overflow_x": null,
      "overflow_y": null,
      "padding": null,
      "right": null,
      "top": null,
      "visibility": null,
      "width": null
     }
    },
    "7a0c9eaf1d1e4a56a195dff77a7ed5f9": {
     "model_module": "@jupyter-widgets/controls",
     "model_module_version": "1.5.0",
     "model_name": "FloatProgressModel",
     "state": {
      "_dom_classes": [],
      "_model_module": "@jupyter-widgets/controls",
      "_model_module_version": "1.5.0",
      "_model_name": "FloatProgressModel",
      "_view_count": null,
      "_view_module": "@jupyter-widgets/controls",
      "_view_module_version": "1.5.0",
      "_view_name": "ProgressView",
      "bar_style": "success",
      "description": "",
      "description_tooltip": null,
      "layout": "IPY_MODEL_bb35a24296ed455a872731cef7333ffb",
      "max": 5001,
      "min": 0,
      "orientation": "horizontal",
      "style": "IPY_MODEL_dc7da92e2f454f79b07c3ca86c3cc9d4",
      "value": 5001
     }
    },
    "911d4b1f888540eb96b8b6a48134f078": {
     "model_module": "@jupyter-widgets/base",
     "model_module_version": "1.2.0",
     "model_name": "LayoutModel",
     "state": {
      "_model_module": "@jupyter-widgets/base",
      "_model_module_version": "1.2.0",
      "_model_name": "LayoutModel",
      "_view_count": null,
      "_view_module": "@jupyter-widgets/base",
      "_view_module_version": "1.2.0",
      "_view_name": "LayoutView",
      "align_content": null,
      "align_items": null,
      "align_self": null,
      "border": null,
      "bottom": null,
      "display": null,
      "flex": null,
      "flex_flow": null,
      "grid_area": null,
      "grid_auto_columns": null,
      "grid_auto_flow": null,
      "grid_auto_rows": null,
      "grid_column": null,
      "grid_gap": null,
      "grid_row": null,
      "grid_template_areas": null,
      "grid_template_columns": null,
      "grid_template_rows": null,
      "height": null,
      "justify_content": null,
      "justify_items": null,
      "left": null,
      "margin": null,
      "max_height": null,
      "max_width": null,
      "min_height": null,
      "min_width": null,
      "object_fit": null,
      "object_position": null,
      "order": null,
      "overflow": null,
      "overflow_x": null,
      "overflow_y": null,
      "padding": null,
      "right": null,
      "top": null,
      "visibility": null,
      "width": null
     }
    },
    "918b0c55f55f4b799fb41adb002c5f1f": {
     "model_module": "@jupyter-widgets/controls",
     "model_module_version": "1.5.0",
     "model_name": "HBoxModel",
     "state": {
      "_dom_classes": [],
      "_model_module": "@jupyter-widgets/controls",
      "_model_module_version": "1.5.0",
      "_model_name": "HBoxModel",
      "_view_count": null,
      "_view_module": "@jupyter-widgets/controls",
      "_view_module_version": "1.5.0",
      "_view_name": "HBoxView",
      "box_style": "",
      "children": [
       "IPY_MODEL_9a823940919d4e068c01e31276740b0f",
       "IPY_MODEL_9fe2d03a06474596b0547d0410da8064",
       "IPY_MODEL_520b45d5f972463da632a32f96c71ee4"
      ],
      "layout": "IPY_MODEL_911d4b1f888540eb96b8b6a48134f078"
     }
    },
    "9a823940919d4e068c01e31276740b0f": {
     "model_module": "@jupyter-widgets/controls",
     "model_module_version": "1.5.0",
     "model_name": "HTMLModel",
     "state": {
      "_dom_classes": [],
      "_model_module": "@jupyter-widgets/controls",
      "_model_module_version": "1.5.0",
      "_model_name": "HTMLModel",
      "_view_count": null,
      "_view_module": "@jupyter-widgets/controls",
      "_view_module_version": "1.5.0",
      "_view_name": "HTMLView",
      "description": "",
      "description_tooltip": null,
      "layout": "IPY_MODEL_53ccb4062ee94e0c84618143ff39ce05",
      "placeholder": "​",
      "style": "IPY_MODEL_df5b9e6414d449f0961eecec22b16991",
      "value": "100%"
     }
    },
    "9fe2d03a06474596b0547d0410da8064": {
     "model_module": "@jupyter-widgets/controls",
     "model_module_version": "1.5.0",
     "model_name": "FloatProgressModel",
     "state": {
      "_dom_classes": [],
      "_model_module": "@jupyter-widgets/controls",
      "_model_module_version": "1.5.0",
      "_model_name": "FloatProgressModel",
      "_view_count": null,
      "_view_module": "@jupyter-widgets/controls",
      "_view_module_version": "1.5.0",
      "_view_name": "ProgressView",
      "bar_style": "success",
      "description": "",
      "description_tooltip": null,
      "layout": "IPY_MODEL_790f3379b0364c88ae6bdec739b97248",
      "max": 1881,
      "min": 0,
      "orientation": "horizontal",
      "style": "IPY_MODEL_e5a69cc464fe42f6be81a34ed57b1686",
      "value": 1881
     }
    },
    "a194d82dd952480387bf1f599a8e52e5": {
     "model_module": "@jupyter-widgets/base",
     "model_module_version": "1.2.0",
     "model_name": "LayoutModel",
     "state": {
      "_model_module": "@jupyter-widgets/base",
      "_model_module_version": "1.2.0",
      "_model_name": "LayoutModel",
      "_view_count": null,
      "_view_module": "@jupyter-widgets/base",
      "_view_module_version": "1.2.0",
      "_view_name": "LayoutView",
      "align_content": null,
      "align_items": null,
      "align_self": null,
      "border": null,
      "bottom": null,
      "display": null,
      "flex": null,
      "flex_flow": null,
      "grid_area": null,
      "grid_auto_columns": null,
      "grid_auto_flow": null,
      "grid_auto_rows": null,
      "grid_column": null,
      "grid_gap": null,
      "grid_row": null,
      "grid_template_areas": null,
      "grid_template_columns": null,
      "grid_template_rows": null,
      "height": null,
      "justify_content": null,
      "justify_items": null,
      "left": null,
      "margin": null,
      "max_height": null,
      "max_width": null,
      "min_height": null,
      "min_width": null,
      "object_fit": null,
      "object_position": null,
      "order": null,
      "overflow": null,
      "overflow_x": null,
      "overflow_y": null,
      "padding": null,
      "right": null,
      "top": null,
      "visibility": null,
      "width": null
     }
    },
    "bb35a24296ed455a872731cef7333ffb": {
     "model_module": "@jupyter-widgets/base",
     "model_module_version": "1.2.0",
     "model_name": "LayoutModel",
     "state": {
      "_model_module": "@jupyter-widgets/base",
      "_model_module_version": "1.2.0",
      "_model_name": "LayoutModel",
      "_view_count": null,
      "_view_module": "@jupyter-widgets/base",
      "_view_module_version": "1.2.0",
      "_view_name": "LayoutView",
      "align_content": null,
      "align_items": null,
      "align_self": null,
      "border": null,
      "bottom": null,
      "display": null,
      "flex": null,
      "flex_flow": null,
      "grid_area": null,
      "grid_auto_columns": null,
      "grid_auto_flow": null,
      "grid_auto_rows": null,
      "grid_column": null,
      "grid_gap": null,
      "grid_row": null,
      "grid_template_areas": null,
      "grid_template_columns": null,
      "grid_template_rows": null,
      "height": null,
      "justify_content": null,
      "justify_items": null,
      "left": null,
      "margin": null,
      "max_height": null,
      "max_width": null,
      "min_height": null,
      "min_width": null,
      "object_fit": null,
      "object_position": null,
      "order": null,
      "overflow": null,
      "overflow_x": null,
      "overflow_y": null,
      "padding": null,
      "right": null,
      "top": null,
      "visibility": null,
      "width": null
     }
    },
    "d5a7c1d85e63402ebd0c36cb6883ab33": {
     "model_module": "@jupyter-widgets/controls",
     "model_module_version": "1.5.0",
     "model_name": "HTMLModel",
     "state": {
      "_dom_classes": [],
      "_model_module": "@jupyter-widgets/controls",
      "_model_module_version": "1.5.0",
      "_model_name": "HTMLModel",
      "_view_count": null,
      "_view_module": "@jupyter-widgets/controls",
      "_view_module_version": "1.5.0",
      "_view_name": "HTMLView",
      "description": "",
      "description_tooltip": null,
      "layout": "IPY_MODEL_a194d82dd952480387bf1f599a8e52e5",
      "placeholder": "​",
      "style": "IPY_MODEL_4c356887768a4330ab0b0eec28984484",
      "value": " 5001/5001 [01:11&lt;00:00, 106.18it/s]"
     }
    },
    "dc7da92e2f454f79b07c3ca86c3cc9d4": {
     "model_module": "@jupyter-widgets/controls",
     "model_module_version": "1.5.0",
     "model_name": "ProgressStyleModel",
     "state": {
      "_model_module": "@jupyter-widgets/controls",
      "_model_module_version": "1.5.0",
      "_model_name": "ProgressStyleModel",
      "_view_count": null,
      "_view_module": "@jupyter-widgets/base",
      "_view_module_version": "1.2.0",
      "_view_name": "StyleView",
      "bar_color": null,
      "description_width": ""
     }
    },
    "df5b9e6414d449f0961eecec22b16991": {
     "model_module": "@jupyter-widgets/controls",
     "model_module_version": "1.5.0",
     "model_name": "DescriptionStyleModel",
     "state": {
      "_model_module": "@jupyter-widgets/controls",
      "_model_module_version": "1.5.0",
      "_model_name": "DescriptionStyleModel",
      "_view_count": null,
      "_view_module": "@jupyter-widgets/base",
      "_view_module_version": "1.2.0",
      "_view_name": "StyleView",
      "description_width": ""
     }
    },
    "e5a69cc464fe42f6be81a34ed57b1686": {
     "model_module": "@jupyter-widgets/controls",
     "model_module_version": "1.5.0",
     "model_name": "ProgressStyleModel",
     "state": {
      "_model_module": "@jupyter-widgets/controls",
      "_model_module_version": "1.5.0",
      "_model_name": "ProgressStyleModel",
      "_view_count": null,
      "_view_module": "@jupyter-widgets/base",
      "_view_module_version": "1.2.0",
      "_view_name": "StyleView",
      "bar_color": null,
      "description_width": ""
     }
    },
    "e7d3b9b9d1224868988e665b4c677357": {
     "model_module": "@jupyter-widgets/controls",
     "model_module_version": "1.5.0",
     "model_name": "DescriptionStyleModel",
     "state": {
      "_model_module": "@jupyter-widgets/controls",
      "_model_module_version": "1.5.0",
      "_model_name": "DescriptionStyleModel",
      "_view_count": null,
      "_view_module": "@jupyter-widgets/base",
      "_view_module_version": "1.2.0",
      "_view_name": "StyleView",
      "description_width": ""
     }
    },
    "f6d802990a2344db99bf282c663efa5a": {
     "model_module": "@jupyter-widgets/controls",
     "model_module_version": "1.5.0",
     "model_name": "DescriptionStyleModel",
     "state": {
      "_model_module": "@jupyter-widgets/controls",
      "_model_module_version": "1.5.0",
      "_model_name": "DescriptionStyleModel",
      "_view_count": null,
      "_view_module": "@jupyter-widgets/base",
      "_view_module_version": "1.2.0",
      "_view_name": "StyleView",
      "description_width": ""
     }
    },
    "fca0079f6a714ac7885e1474711d7913": {
     "model_module": "@jupyter-widgets/controls",
     "model_module_version": "1.5.0",
     "model_name": "HBoxModel",
     "state": {
      "_dom_classes": [],
      "_model_module": "@jupyter-widgets/controls",
      "_model_module_version": "1.5.0",
      "_model_name": "HBoxModel",
      "_view_count": null,
      "_view_module": "@jupyter-widgets/controls",
      "_view_module_version": "1.5.0",
      "_view_name": "HBoxView",
      "box_style": "",
      "children": [
       "IPY_MODEL_4a9ef407319c43bcb20106c47f0db180",
       "IPY_MODEL_7a0c9eaf1d1e4a56a195dff77a7ed5f9",
       "IPY_MODEL_d5a7c1d85e63402ebd0c36cb6883ab33"
      ],
      "layout": "IPY_MODEL_55e857853048445b87cea2de151ba035"
     }
    }
   }
  }
 },
 "nbformat": 4,
 "nbformat_minor": 5
}
